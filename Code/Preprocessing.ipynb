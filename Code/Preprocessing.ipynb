{
 "cells": [
  {
   "cell_type": "code",
   "execution_count": 1,
   "id": "15b6e445",
   "metadata": {},
   "outputs": [],
   "source": [
    "#  Chargement des packages Python\n",
    "import pandas as pd\n",
    "import numpy as np\n",
    "import cv2\n"
   ]
  },
  {
   "cell_type": "code",
   "execution_count": 2,
   "id": "61f1c095",
   "metadata": {},
   "outputs": [],
   "source": [
    "# PARAMETRES\n",
    "PrjLocation = '/home/ubuntu/XRAY/'              # CHemin Projet\n",
    "ArchiveFolder = 'COVID-19_Radiography_Dataset/' # Dossier Archive\n"
   ]
  },
  {
   "cell_type": "code",
   "execution_count": 4,
   "id": "2be66dc1",
   "metadata": {},
   "outputs": [],
   "source": [
    "# Récupération des metadata\n",
    "df_Normal = pd.read_excel(PrjLocation + ArchiveFolder + 'Normal.metadata.xlsx')\n",
    "df_COVID = pd.read_excel(PrjLocation + ArchiveFolder + 'COVID.metadata.xlsx')\n",
    "df_LungOpacity = pd.read_excel(PrjLocation + ArchiveFolder + 'Lung_Opacity.metadata.xlsx')\n",
    "df_ViralPneumonia = pd.read_excel(PrjLocation + ArchiveFolder + 'Viral Pneumonia.metadata.xlsx')\n"
   ]
  },
  {
   "cell_type": "code",
   "execution_count": 5,
   "id": "9a48af25",
   "metadata": {},
   "outputs": [],
   "source": [
    "# Ajout feature Class\n",
    "df_Normal['Class'] = 'Normal'\n",
    "df_COVID['Class'] = 'COVID'\n",
    "df_LungOpacity['Class'] = 'Lung Opacity'\n",
    "df_ViralPneumonia['Class'] = 'Viral Pneumonia'\n",
    "\n"
   ]
  },
  {
   "cell_type": "code",
   "execution_count": 31,
   "id": "1cdcb9bb",
   "metadata": {},
   "outputs": [],
   "source": [
    "# Ajout des images Normal\n",
    "df_Normal['FILE NAME'] = df_Normal['FILE NAME'].str.replace('NORMAL','Normal') # Trick pour obtenir la bonne casse des noms de fichiers\n",
    "NormalFolder = PrjLocation + ArchiveFolder + 'Normal/'\n",
    "IMG_NORMAL = []\n",
    "for file in df_Normal.loc[:8500,'FILE NAME']:\n",
    "    img = cv2.imread(NormalFolder + 'images/' + file + '.png')\n",
    "    IMG_NORMAL.append(img)\n"
   ]
  },
  {
   "cell_type": "code",
   "execution_count": 26,
   "id": "efedbe7e",
   "metadata": {},
   "outputs": [
    {
     "data": {
      "text/plain": [
       "(10192, 5)"
      ]
     },
     "execution_count": 26,
     "metadata": {},
     "output_type": "execute_result"
    }
   ],
   "source": [
    "df_Normal.shape\n"
   ]
  }
 ],
 "metadata": {
  "kernelspec": {
   "display_name": "Python 3",
   "language": "python",
   "name": "python3"
  },
  "language_info": {
   "codemirror_mode": {
    "name": "ipython",
    "version": 3
   },
   "file_extension": ".py",
   "mimetype": "text/x-python",
   "name": "python",
   "nbconvert_exporter": "python",
   "pygments_lexer": "ipython3",
   "version": "3.8.10"
  }
 },
 "nbformat": 4,
 "nbformat_minor": 5
}
