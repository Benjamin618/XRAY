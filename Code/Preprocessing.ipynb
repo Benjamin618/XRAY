{
 "cells": [
  {
   "cell_type": "code",
   "execution_count": null,
   "id": "15b6e445",
   "metadata": {},
   "outputs": [],
   "source": [
    "#  Chargement des packages Python\n",
    "import pandas as pd\n",
    "import numpy as np\n",
    "import matplotlib.pyplot as plt\n",
    "import seaborn as sns\n",
    "import cv2\n",
    "from datetime import date\n"
   ]
  },
  {
   "cell_type": "code",
   "execution_count": null,
   "id": "61f1c095",
   "metadata": {},
   "outputs": [],
   "source": [
    "# PARAMETRES\n",
    "PrjLocation = '/home/ubuntu/XRAY/'              # Chemin Projet\n",
    "ArchiveFolder = 'COVID-19_Radiography_Dataset/' # Dossier Archive\n",
    "SampleAnalyzedPerClass = 2000"
   ]
  },
  {
   "cell_type": "code",
   "execution_count": null,
   "id": "2be66dc1",
   "metadata": {},
   "outputs": [],
   "source": [
    "# Récupération des metadata\n",
    "df_Normal = pd.read_excel(PrjLocation + ArchiveFolder + 'Normal.metadata.xlsx')\n",
    "df_COVID = pd.read_excel(PrjLocation + ArchiveFolder + 'COVID.metadata.xlsx')\n",
    "df_LungOpacity = pd.read_excel(PrjLocation + ArchiveFolder + 'Lung_Opacity.metadata.xlsx')\n",
    "df_ViralPneumonia = pd.read_excel(PrjLocation + ArchiveFolder + 'Viral Pneumonia.metadata.xlsx')\n"
   ]
  },
  {
   "cell_type": "code",
   "execution_count": null,
   "id": "9a48af25",
   "metadata": {},
   "outputs": [],
   "source": [
    "# Ajout feature Class\n",
    "df_Normal['Class'] = 'Normal'\n",
    "df_COVID['Class'] = 'COVID'\n",
    "df_LungOpacity['Class'] = 'Lung Opacity'\n",
    "df_ViralPneumonia['Class'] = 'Viral Pneumonia'"
   ]
  },
  {
   "cell_type": "code",
   "execution_count": null,
   "id": "ee499815",
   "metadata": {},
   "outputs": [],
   "source": [
    "# Répartition des cas par classe\n",
    "plt.figure(figsize=(12,6))\n",
    "str(df_Normal.shape[0])\n",
    "plt.pie([df_Normal.shape[0],df_COVID.shape[0],df_LungOpacity.shape[0],df_ViralPneumonia.shape[0]],\n",
    "        labels=['Normal (' + str(df_Normal.shape[0]) + ' items)' ,'COVID (' + str(df_COVID.shape[0]) + ' items)','LungOpacity (' + str(df_LungOpacity.shape[0]) + ' items)','ViralPneumonia (' + str(df_ViralPneumonia.shape[0]) + ' items)'])\n",
    "plt.title('Répartition des CXR (Chest X-Ray) fournis par classe')\n",
    "plt.show()"
   ]
  },
  {
   "cell_type": "code",
   "execution_count": null,
   "id": "1cdcb9bb",
   "metadata": {},
   "outputs": [],
   "source": [
    "# Ajout des images Normal\n",
    "df_Normal['FILE NAME'] = df_Normal['FILE NAME'].str.replace('NORMAL','Normal') # Trick pour obtenir la bonne casse des noms de fichiers\n",
    "NormalFolder = PrjLocation + ArchiveFolder + 'Normal/'\n",
    "IMG_NORMAL = []\n",
    "for file in df_Normal.loc[:min(SampleAnalyzedPerClass,df_Normal.shape[0]),'FILE NAME']:\n",
    "    img = cv2.imread(NormalFolder + 'images/' + file + '.png',cv2.IMREAD_GRAYSCALE)\n",
    "    IMG_NORMAL.append(img)\n"
   ]
  },
  {
   "cell_type": "code",
   "execution_count": null,
   "id": "25938440",
   "metadata": {},
   "outputs": [],
   "source": []
  },
  {
   "cell_type": "code",
   "execution_count": null,
   "id": "f079cf41",
   "metadata": {},
   "outputs": [],
   "source": [
    "# Ajout des masques Normal\n",
    "df_Normal['FILE NAME'] = df_Normal['FILE NAME'].str.replace('NORMAL','Normal') # Trick pour obtenir la bonne casse des noms de fichiers\n",
    "NormalFolder = PrjLocation + ArchiveFolder + 'Normal/'\n",
    "MSK_NORMAL = []\n",
    "for file in df_Normal.loc[:min(SampleAnalyzedPerClass,df_Normal.shape[0]),'FILE NAME']:\n",
    "    msk = cv2.imread(NormalFolder + 'masks/' + file + '.png',cv2.IMREAD_GRAYSCALE)\n",
    "    MSK_NORMAL.append(msk)"
   ]
  },
  {
   "cell_type": "code",
   "execution_count": null,
   "id": "4409b4b0",
   "metadata": {},
   "outputs": [],
   "source": [
    "# Ajout des images COVID\n",
    "COVIDFolder = PrjLocation + ArchiveFolder + 'COVID/'\n",
    "IMG_COVID = []\n",
    "for file in df_COVID.loc[:min(SampleAnalyzedPerClass,df_COVID.shape[0]),'FILE NAME']:\n",
    "    img = cv2.imread(COVIDFolder + 'images/' + file + '.png',cv2.IMREAD_GRAYSCALE)\n",
    "    IMG_COVID.append(img)"
   ]
  },
  {
   "cell_type": "code",
   "execution_count": null,
   "id": "4151d34a",
   "metadata": {},
   "outputs": [],
   "source": [
    "# Ajout des masques COVID\n",
    "COVIDFolder = PrjLocation + ArchiveFolder + 'COVID/'\n",
    "MSK_COVID = []\n",
    "for file in df_COVID.loc[:min(SampleAnalyzedPerClass,df_COVID.shape[0]),'FILE NAME']:\n",
    "    msk = cv2.imread(COVIDFolder + 'masks/' + file + '.png',cv2.IMREAD_GRAYSCALE)\n",
    "    MSK_COVID.append(msk)"
   ]
  },
  {
   "cell_type": "code",
   "execution_count": null,
   "id": "5f648a17",
   "metadata": {},
   "outputs": [],
   "source": [
    "# Ajout des images LungOpacity\n",
    "LOFolder = PrjLocation + ArchiveFolder + 'Lung_Opacity/'\n",
    "IMG_LO = []\n",
    "for file in df_LungOpacity.loc[:min(SampleAnalyzedPerClass,df_LungOpacity.shape[0]),'FILE NAME']:\n",
    "    img = cv2.imread(LOFolder + 'images/' + file + '.png',cv2.IMREAD_GRAYSCALE)\n",
    "    IMG_LO.append(img)"
   ]
  },
  {
   "cell_type": "code",
   "execution_count": null,
   "id": "b30cd3f6",
   "metadata": {},
   "outputs": [],
   "source": [
    "# Ajout des masques LungOpacity\n",
    "LOFolder = PrjLocation + ArchiveFolder + 'Lung_Opacity/'\n",
    "MSK_LO = []\n",
    "for file in df_LungOpacity.loc[:min(SampleAnalyzedPerClass,df_LungOpacity.shape[0]),'FILE NAME']:\n",
    "    msk = cv2.imread(LOFolder + 'masks/' + file + '.png',cv2.IMREAD_GRAYSCALE)\n",
    "    MSK_LO.append(msk)"
   ]
  },
  {
   "cell_type": "code",
   "execution_count": null,
   "id": "e0b5e294",
   "metadata": {},
   "outputs": [],
   "source": [
    "# Ajout des images Viral Pneumonia\n",
    "VPFolder = PrjLocation + ArchiveFolder + 'Viral Pneumonia/'\n",
    "IMG_VP = []\n",
    "for file in df_ViralPneumonia.loc[:min(SampleAnalyzedPerClass,df_ViralPneumonia.shape[0]),'FILE NAME']:\n",
    "    img = cv2.imread(VPFolder + 'images/' + file + '.png',cv2.IMREAD_GRAYSCALE)\n",
    "    IMG_VP.append(img)"
   ]
  },
  {
   "cell_type": "code",
   "execution_count": null,
   "id": "93095a06",
   "metadata": {},
   "outputs": [],
   "source": [
    "# Ajout des masques Viral Pneumonia\n",
    "VPFolder = PrjLocation + ArchiveFolder + 'Viral Pneumonia/'\n",
    "MSK_VP = []\n",
    "for file in df_ViralPneumonia.loc[:min(SampleAnalyzedPerClass,df_ViralPneumonia.shape[0]),'FILE NAME']:\n",
    "    msk = cv2.imread(VPFolder + 'masks/' + file + '.png',cv2.IMREAD_GRAYSCALE)\n",
    "    MSK_VP.append(msk)"
   ]
  },
  {
   "cell_type": "code",
   "execution_count": null,
   "id": "efedbe7e",
   "metadata": {},
   "outputs": [],
   "source": [
    "# Troncature SampleAnalyzedPerClass\n",
    "df_Normal = df_Normal.iloc[:min(SampleAnalyzedPerClass,df_Normal.shape[0]),:]\n",
    "df_COVID = df_COVID.iloc[:min(SampleAnalyzedPerClass,df_COVID.shape[0]),:]\n",
    "df_LungOpacity = df_LungOpacity.iloc[:min(SampleAnalyzedPerClass,df_LungOpacity.shape[0]),:]\n",
    "df_ViralPneumonia = df_ViralPneumonia.iloc[:min(SampleAnalyzedPerClass,df_ViralPneumonia.shape[0]),:]\n"
   ]
  },
  {
   "cell_type": "code",
   "execution_count": null,
   "id": "104680cc",
   "metadata": {},
   "outputs": [],
   "source": [
    "# Ajout feature Image\n",
    "df_Normal['Image'] = IMG_NORMAL[:min(SampleAnalyzedPerClass,df_Normal.shape[0])]\n",
    "df_COVID['Image'] = IMG_COVID[:min(SampleAnalyzedPerClass,df_COVID.shape[0])]\n",
    "df_LungOpacity['Image'] = IMG_LO[:min(SampleAnalyzedPerClass,df_LungOpacity.shape[0])]\n",
    "df_ViralPneumonia['Image'] = IMG_VP[:min(SampleAnalyzedPerClass,df_ViralPneumonia.shape[0])]\n",
    "\n",
    "# Ajout feature Mask\n",
    "df_Normal['Mask'] = MSK_NORMAL[:min(SampleAnalyzedPerClass,df_Normal.shape[0])]\n",
    "df_COVID['Mask'] = MSK_COVID[:min(SampleAnalyzedPerClass,df_COVID.shape[0])]\n",
    "df_LungOpacity['Mask'] = MSK_LO[:min(SampleAnalyzedPerClass,df_LungOpacity.shape[0])]\n",
    "df_ViralPneumonia['Mask'] = MSK_VP[:min(SampleAnalyzedPerClass,df_ViralPneumonia.shape[0])]"
   ]
  },
  {
   "cell_type": "code",
   "execution_count": null,
   "id": "22690858",
   "metadata": {},
   "outputs": [],
   "source": [
    "# Construction d'un Dataframe global\n",
    "df = pd.concat([df_Normal,df_COVID,df_LungOpacity,df_ViralPneumonia])\n",
    "\n",
    "df.reset_index(drop=True,inplace=True)\n",
    "\n",
    "# Sauvegarde du df\n",
    "df.to_csv(PrjLocation + 'Reports/' + str(date.today()) + '_df_extract.csv')"
   ]
  },
  {
   "cell_type": "code",
   "execution_count": null,
   "id": "23a6c59b",
   "metadata": {},
   "outputs": [],
   "source": [
    "# Fonction permettant d'obtenir des statistiques sur l'image analysées\n",
    "#   - PixelCount = Nombre de pixel de l'image filtrée (surface)\n",
    "#   - Brightness = Valeur moyenne de l'intensité des pixels de l'image filtrée\n",
    "#   - BrightnessAmbient = Valeur moyenne de l'intensité des pixels de l'image en dehors du mask (intensité de l'ambiance)\n",
    "def Get_CXRStats(img,msk):\n",
    "    msk = cv2.resize(msk,(299,299))\n",
    "    img2 = cv2.bitwise_and(img,msk)\n",
    "    PixelCount = msk[msk==255].size\n",
    "    Brightness = img[msk==255].mean()\n",
    "    BrightnessAmbient = img[msk==0].mean()\n",
    "    return PixelCount, Brightness, BrightnessAmbient"
   ]
  },
  {
   "cell_type": "code",
   "execution_count": null,
   "id": "e8da48bd",
   "metadata": {},
   "outputs": [],
   "source": [
    "PixCnt = []\n",
    "Bright = []\n",
    "BrightAmb = []\n",
    "for CXRi in df.index:\n",
    "    a,b,c = Get_CXRStats(df.iloc[CXRi,5],df.iloc[CXRi,6])\n",
    "    PixCnt.append(a)\n",
    "    Bright.append(b)\n",
    "    BrightAmb.append(c)\n",
    "\n",
    "df['PixelCount'] = PixCnt\n",
    "df['Brightness'] = Bright\n",
    "df['BrightnessAmbient'] = BrightAmb"
   ]
  },
  {
   "cell_type": "code",
   "execution_count": null,
   "id": "5aadbb68",
   "metadata": {},
   "outputs": [],
   "source": [
    "# Génération d'un numéro d'échantillon RandomIndex au hasard\n",
    "rng = np.random.default_rng()\n",
    "RandomIndex = rng.integers(low=0, high=df.shape[0], size=1)[0]\n"
   ]
  },
  {
   "cell_type": "code",
   "execution_count": null,
   "id": "49214ebd",
   "metadata": {},
   "outputs": [],
   "source": [
    "# CXR Viewer\n",
    "\n",
    "# Sélection de l'échantillon à visualiser\n",
    "Index = RandomIndex\n",
    "\n",
    "\n",
    "fig, ax = plt.subplots(nrows=1,ncols=3,figsize=(18,8))\n",
    "\n",
    "img = df.iloc[Index,5]\n",
    "msk = cv2.resize(df.iloc[Index,6],(299,299))\n",
    "\n",
    "ax[0].imshow(img, cmap = 'gray')\n",
    "ax[1].imshow(msk, cmap = 'gray')\n",
    "ax[2].imshow(cv2.bitwise_and(img,msk), cmap = 'gray') # pour masquer mon_image, cmap = 'gray')\n",
    "\n",
    "ax[0].set_title('RAW IMAGE : ' + df.iloc[Index,0])\n",
    "ax[1].set_title('RESIZED MASK : ' + df.iloc[Index,0] + '\\nPixel count = ' + str(df.iloc[Index,7]) + ' (-)')\n",
    "ax[2].set_title('FILTERED IMAGE : ' + df.iloc[Index,0] + '\\nBrightness = ' + f\"{df.iloc[Index,8]:5.2f}\" + ' (-)')\n",
    "\n",
    "for axe in ax:\n",
    "    axe.set_xlim([0,300])\n",
    "    axe.set_ylim([300,0])\n",
    "    axe.set_xticks([])\n",
    "    axe.set_yticks([])\n",
    "\n"
   ]
  },
  {
   "cell_type": "code",
   "execution_count": null,
   "id": "84e44493",
   "metadata": {},
   "outputs": [],
   "source": [
    "plt.figure(figsize=(18,8))\n",
    "sns.histplot(df,x='Class',hue='URL', multiple=\"stack\")\n",
    "# plt.legend(loc='best')\n",
    "plt.title('Dataset URL vs Class')"
   ]
  },
  {
   "cell_type": "code",
   "execution_count": null,
   "id": "ccec9d85",
   "metadata": {},
   "outputs": [],
   "source": [
    "fig=plt.figure(figsize=(18,8))\n",
    "sns.pairplot(data=df,vars=['PixelCount', 'Brightness', 'BrightnessAmbient'],hue='Class')"
   ]
  },
  {
   "cell_type": "code",
   "execution_count": null,
   "id": "e77d3f46",
   "metadata": {},
   "outputs": [],
   "source": [
    "# Fonction qui permet de récupérer des infos sur le masks\n",
    "def AnalyzeMask(msk_remain, active_pix = -1, zones = -1, depth = -1):\n",
    "    \"\"\"\n",
    "    INPUTS\n",
    "        - msk : array[299,299] \n",
    "\n",
    "    OUTPUTS\n",
    "        - DataFrame\n",
    "            - ID zone : int\n",
    "            - PixCnt : int\n",
    "            - msk : array[299,299]\n",
    "            - Act : bool\n",
    "    \"\"\"\n",
    "\n",
    "    if active_pix == -1:\n",
    "        # Initialisation des paramètres d'appel\n",
    "        # Recherche du premier pixel\n",
    "        zone_found = False\n",
    "        for x in range(msk_remain.shape[0]):\n",
    "            for y in range(msk_remain.shape[1]):\n",
    "                if msk_remain[x,y] == 255:\n",
    "                    zone_found = True\n",
    "                    # Activation du pixel\n",
    "                    active_pix = [x,y]\n",
    "                    # Initialisation de la zone\n",
    "                    if zones == -1:\n",
    "                        # Création de la première zone -- instanciation du dataframe zones\n",
    "                        zones = pd.DataFrame(   data = [0,0,np.zeros_like(msk_remain),False],\n",
    "                                                index = 0,\n",
    "                                                columns = ['ID','PixCnt','msk','act'])\n",
    "                    else:\n",
    "                        # Création d'une nouvelle zone\n",
    "                        new_zone = pd.DataFrame(data = [zones.shape[0],0,np.zeros_like(msk_remain),False],\n",
    "                                                index = 0,\n",
    "                                                columns = ['ID','PixCnt','msk','act'])\n",
    "                        zones = pd.concat([zones,new_zone])\n",
    "\n",
    "                    # Ajout du pixel dans la zone en cours\n",
    "                    zones.loc[-1,'msk']= zones.loc[-1,'msk'] + msk_remain[x,y]\n",
    "                    zones.loc[-1,'PixCnt'] += 1\n",
    "\n",
    "                    # Retrait du pixel de la zone de recherche\n",
    "                    msk_remain[active_pix[0],active_pix[1]] = 0\n",
    "\n",
    "                    # Appel récursif de AnalyzeMask\n",
    "                    AnalyzeMask(msk_remain, active_pix, zones, 0)\n",
    "                    \n",
    "        if not zone_found:\n",
    "            return zones\n",
    "    else:\n",
    "        # Recherche d'un nouveau pixel\n",
    "        if active_pix[0] > 0:\n",
    "            if msk_remain[active_pix[0]-1,active_pix[1]] == 255:\n",
    "                # trouvé en haut => Appel récursif\n",
    "                # Activation du pixel\n",
    "                active_pix = [active_pix[0]-1,active_pix[1]]\n",
    "                # Ajout du pixel dans la zone en cours\n",
    "                zones.loc[-1,'msk']= zones.loc[-1,'msk'] + msk_remain[x,y]\n",
    "                zones.loc[-1,'PixCnt'] += 1\n",
    "                # Retrait du pixel de la zone de recherche\n",
    "                msk_remain[active_pix[0],active_pix[1]] = 0\n",
    "                # Appel récursif de AnalyzeMask\n",
    "                AnalyzeMask(msk_remain, active_pix, zones, depth+1)\n",
    "        if active_pix[0] < msk_remain.shape[0]:\n",
    "            if msk_remain[active_pix[0]+1,active_pix[1]] == 255:\n",
    "                # trouvé en bas\n",
    "                # Activation du pixel\n",
    "                active_pix = [active_pix[0]+1,active_pix[1]]\n",
    "                # Ajout du pixel dans la zone en cours\n",
    "                zones.loc[-1,'msk']= zones.loc[-1,'msk'] + msk_remain[x,y]\n",
    "                zones.loc[-1,'PixCnt'] += 1\n",
    "                # Retrait du pixel de la zone de recherche\n",
    "                msk_remain[active_pix[0],active_pix[1]] = 0\n",
    "                # Appel récursif de AnalyzeMask\n",
    "                AnalyzeMask(msk_remain, active_pix, zones, depth+1)\n",
    "        if active_pix[1] > 0:\n",
    "            if msk_remain[active_pix[0],active_pix[1]-1] == 255:\n",
    "                # trouvé à gauche\n",
    "                # Activation du pixel\n",
    "                active_pix = [active_pix[0],active_pix[1]-1]\n",
    "                # Ajout du pixel dans la zone en cours\n",
    "                zones.loc[-1,'msk']= zones.loc[-1,'msk'] + msk_remain[x,y]\n",
    "                zones.loc[-1,'PixCnt'] += 1\n",
    "                # Retrait du pixel de la zone de recherche\n",
    "                msk_remain[active_pix[0],active_pix[1]] = 0\n",
    "                # Appel récursif de AnalyzeMask\n",
    "                AnalyzeMask(msk_remain, active_pix, zones, depth+1)\n",
    "        if active_pix[1] < msk_remain.shape[1]:\n",
    "            if msk_remain[active_pix[0],active_pix[1]+1] == 255:\n",
    "                # trouvé à droite\n",
    "                # Activation du pixel\n",
    "                active_pix = [active_pix[0],active_pix[1]+1]\n",
    "                # Ajout du pixel dans la zone en cours\n",
    "                zones.loc[-1,'msk']= zones.loc[-1,'msk'] + msk_remain[x,y]\n",
    "                zones.loc[-1,'PixCnt'] += 1\n",
    "                # Retrait du pixel de la zone de recherche\n",
    "                msk_remain[active_pix[0],active_pix[1]] = 0\n",
    "                # Appel récursif de AnalyzeMask\n",
    "                AnalyzeMask(msk_remain, active_pix, zones, depth+1)\n",
    "\n",
    "        # Recherche d'une nouvelle zone\n",
    "        if depth == 0:\n",
    "            active_pix = -1\n",
    "            AnalyzeMask(msk_remain, active_pix, zones, -1)\n",
    "\n",
    "\n"
   ]
  },
  {
   "cell_type": "code",
   "execution_count": null,
   "id": "a8f236c0",
   "metadata": {},
   "outputs": [],
   "source": [
    "Z = AnalyzeMask(msk)\n",
    "\n",
    "Z"
   ]
  },
  {
   "cell_type": "code",
   "execution_count": null,
   "id": "3d480df0",
   "metadata": {},
   "outputs": [],
   "source": [
    "for x in range(msk.shape[0]):\n",
    "    for y in range(msk.shape[1]):\n",
    "        if msk[x,y] == 255:\n",
    "            # Activation du pixel\n",
    "            active_pix = [x,y]\n",
    "\n",
    "msk[active_pix[0],active_pix[1]]\n"
   ]
  },
  {
   "cell_type": "code",
   "execution_count": null,
   "id": "baf34ff6",
   "metadata": {},
   "outputs": [
    {
     "ename": "TypeError",
     "evalue": "Index(...) must be called with a collection of some kind, 0 was passed",
     "output_type": "error",
     "traceback": [
      "\u001b[0;31m---------------------------------------------------------------------------\u001b[0m",
      "\u001b[0;31mTypeError\u001b[0m                                 Traceback (most recent call last)",
      "Cell \u001b[0;32mIn[66], line 1\u001b[0m\n\u001b[0;32m----> 1\u001b[0m zones \u001b[38;5;241m=\u001b[39m \u001b[43mpd\u001b[49m\u001b[38;5;241;43m.\u001b[39;49m\u001b[43mDataFrame\u001b[49m\u001b[43m(\u001b[49m\u001b[43m   \u001b[49m\u001b[43mdata\u001b[49m\u001b[43m \u001b[49m\u001b[38;5;241;43m=\u001b[39;49m\u001b[43m \u001b[49m\u001b[43m[\u001b[49m\u001b[38;5;241;43m0\u001b[39;49m\u001b[43m,\u001b[49m\u001b[38;5;241;43m1\u001b[39;49m\u001b[43m]\u001b[49m\u001b[43m,\u001b[49m\n\u001b[1;32m      2\u001b[0m \u001b[43m                        \u001b[49m\u001b[43mindex\u001b[49m\u001b[43m \u001b[49m\u001b[38;5;241;43m=\u001b[39;49m\u001b[43m \u001b[49m\u001b[38;5;241;43m0\u001b[39;49m\u001b[43m,\u001b[49m\n\u001b[1;32m      3\u001b[0m \u001b[43m                        \u001b[49m\u001b[43mcolumns\u001b[49m\u001b[43m \u001b[49m\u001b[38;5;241;43m=\u001b[39;49m\u001b[43m \u001b[49m\u001b[43m[\u001b[49m\u001b[38;5;124;43m'\u001b[39;49m\u001b[38;5;124;43mID\u001b[39;49m\u001b[38;5;124;43m'\u001b[39;49m\u001b[43m,\u001b[49m\u001b[38;5;124;43m'\u001b[39;49m\u001b[38;5;124;43mmsk\u001b[39;49m\u001b[38;5;124;43m'\u001b[39;49m\u001b[43m]\u001b[49m\u001b[43m)\u001b[49m\n\u001b[1;32m      5\u001b[0m zones\u001b[38;5;241m.\u001b[39mhead()\n",
      "File \u001b[0;32m~/.local/lib/python3.8/site-packages/pandas/core/frame.py:798\u001b[0m, in \u001b[0;36mDataFrame.__init__\u001b[0;34m(self, data, index, columns, dtype, copy)\u001b[0m\n\u001b[1;32m    790\u001b[0m         mgr \u001b[38;5;241m=\u001b[39m arrays_to_mgr(\n\u001b[1;32m    791\u001b[0m             arrays,\n\u001b[1;32m    792\u001b[0m             columns,\n\u001b[0;32m   (...)\u001b[0m\n\u001b[1;32m    795\u001b[0m             typ\u001b[38;5;241m=\u001b[39mmanager,\n\u001b[1;32m    796\u001b[0m         )\n\u001b[1;32m    797\u001b[0m     \u001b[38;5;28;01melse\u001b[39;00m:\n\u001b[0;32m--> 798\u001b[0m         mgr \u001b[38;5;241m=\u001b[39m \u001b[43mndarray_to_mgr\u001b[49m\u001b[43m(\u001b[49m\n\u001b[1;32m    799\u001b[0m \u001b[43m            \u001b[49m\u001b[43mdata\u001b[49m\u001b[43m,\u001b[49m\n\u001b[1;32m    800\u001b[0m \u001b[43m            \u001b[49m\u001b[43mindex\u001b[49m\u001b[43m,\u001b[49m\n\u001b[1;32m    801\u001b[0m \u001b[43m            \u001b[49m\u001b[43mcolumns\u001b[49m\u001b[43m,\u001b[49m\n\u001b[1;32m    802\u001b[0m \u001b[43m            \u001b[49m\u001b[43mdtype\u001b[49m\u001b[38;5;241;43m=\u001b[39;49m\u001b[43mdtype\u001b[49m\u001b[43m,\u001b[49m\n\u001b[1;32m    803\u001b[0m \u001b[43m            \u001b[49m\u001b[43mcopy\u001b[49m\u001b[38;5;241;43m=\u001b[39;49m\u001b[43mcopy\u001b[49m\u001b[43m,\u001b[49m\n\u001b[1;32m    804\u001b[0m \u001b[43m            \u001b[49m\u001b[43mtyp\u001b[49m\u001b[38;5;241;43m=\u001b[39;49m\u001b[43mmanager\u001b[49m\u001b[43m,\u001b[49m\n\u001b[1;32m    805\u001b[0m \u001b[43m        \u001b[49m\u001b[43m)\u001b[49m\n\u001b[1;32m    806\u001b[0m \u001b[38;5;28;01melse\u001b[39;00m:\n\u001b[1;32m    807\u001b[0m     mgr \u001b[38;5;241m=\u001b[39m dict_to_mgr(\n\u001b[1;32m    808\u001b[0m         {},\n\u001b[1;32m    809\u001b[0m         index,\n\u001b[0;32m   (...)\u001b[0m\n\u001b[1;32m    812\u001b[0m         typ\u001b[38;5;241m=\u001b[39mmanager,\n\u001b[1;32m    813\u001b[0m     )\n",
      "File \u001b[0;32m~/.local/lib/python3.8/site-packages/pandas/core/internals/construction.py:333\u001b[0m, in \u001b[0;36mndarray_to_mgr\u001b[0;34m(values, index, columns, dtype, copy, typ)\u001b[0m\n\u001b[1;32m    324\u001b[0m     values \u001b[38;5;241m=\u001b[39m sanitize_array(\n\u001b[1;32m    325\u001b[0m         values,\n\u001b[1;32m    326\u001b[0m         \u001b[38;5;28;01mNone\u001b[39;00m,\n\u001b[0;32m   (...)\u001b[0m\n\u001b[1;32m    329\u001b[0m         allow_2d\u001b[38;5;241m=\u001b[39m\u001b[38;5;28;01mTrue\u001b[39;00m,\n\u001b[1;32m    330\u001b[0m     )\n\u001b[1;32m    332\u001b[0m \u001b[38;5;66;03m# _prep_ndarraylike ensures that values.ndim == 2 at this point\u001b[39;00m\n\u001b[0;32m--> 333\u001b[0m index, columns \u001b[38;5;241m=\u001b[39m \u001b[43m_get_axes\u001b[49m\u001b[43m(\u001b[49m\n\u001b[1;32m    334\u001b[0m \u001b[43m    \u001b[49m\u001b[43mvalues\u001b[49m\u001b[38;5;241;43m.\u001b[39;49m\u001b[43mshape\u001b[49m\u001b[43m[\u001b[49m\u001b[38;5;241;43m0\u001b[39;49m\u001b[43m]\u001b[49m\u001b[43m,\u001b[49m\u001b[43m \u001b[49m\u001b[43mvalues\u001b[49m\u001b[38;5;241;43m.\u001b[39;49m\u001b[43mshape\u001b[49m\u001b[43m[\u001b[49m\u001b[38;5;241;43m1\u001b[39;49m\u001b[43m]\u001b[49m\u001b[43m,\u001b[49m\u001b[43m \u001b[49m\u001b[43mindex\u001b[49m\u001b[38;5;241;43m=\u001b[39;49m\u001b[43mindex\u001b[49m\u001b[43m,\u001b[49m\u001b[43m \u001b[49m\u001b[43mcolumns\u001b[49m\u001b[38;5;241;43m=\u001b[39;49m\u001b[43mcolumns\u001b[49m\n\u001b[1;32m    335\u001b[0m \u001b[43m\u001b[49m\u001b[43m)\u001b[49m\n\u001b[1;32m    337\u001b[0m _check_values_indices_shape_match(values, index, columns)\n\u001b[1;32m    339\u001b[0m \u001b[38;5;28;01mif\u001b[39;00m typ \u001b[38;5;241m==\u001b[39m \u001b[38;5;124m\"\u001b[39m\u001b[38;5;124marray\u001b[39m\u001b[38;5;124m\"\u001b[39m:\n",
      "File \u001b[0;32m~/.local/lib/python3.8/site-packages/pandas/core/internals/construction.py:733\u001b[0m, in \u001b[0;36m_get_axes\u001b[0;34m(N, K, index, columns)\u001b[0m\n\u001b[1;32m    731\u001b[0m     index \u001b[38;5;241m=\u001b[39m default_index(N)\n\u001b[1;32m    732\u001b[0m \u001b[38;5;28;01melse\u001b[39;00m:\n\u001b[0;32m--> 733\u001b[0m     index \u001b[38;5;241m=\u001b[39m \u001b[43mensure_index\u001b[49m\u001b[43m(\u001b[49m\u001b[43mindex\u001b[49m\u001b[43m)\u001b[49m\n\u001b[1;32m    735\u001b[0m \u001b[38;5;28;01mif\u001b[39;00m columns \u001b[38;5;129;01mis\u001b[39;00m \u001b[38;5;28;01mNone\u001b[39;00m:\n\u001b[1;32m    736\u001b[0m     columns \u001b[38;5;241m=\u001b[39m default_index(K)\n",
      "File \u001b[0;32m~/.local/lib/python3.8/site-packages/pandas/core/indexes/base.py:7128\u001b[0m, in \u001b[0;36mensure_index\u001b[0;34m(index_like, copy)\u001b[0m\n\u001b[1;32m   7126\u001b[0m         \u001b[38;5;28;01mreturn\u001b[39;00m Index(index_like, copy\u001b[38;5;241m=\u001b[39mcopy, tupleize_cols\u001b[38;5;241m=\u001b[39m\u001b[38;5;28;01mFalse\u001b[39;00m)\n\u001b[1;32m   7127\u001b[0m \u001b[38;5;28;01melse\u001b[39;00m:\n\u001b[0;32m-> 7128\u001b[0m     \u001b[38;5;28;01mreturn\u001b[39;00m \u001b[43mIndex\u001b[49m\u001b[43m(\u001b[49m\u001b[43mindex_like\u001b[49m\u001b[43m,\u001b[49m\u001b[43m \u001b[49m\u001b[43mcopy\u001b[49m\u001b[38;5;241;43m=\u001b[39;49m\u001b[43mcopy\u001b[49m\u001b[43m)\u001b[49m\n",
      "File \u001b[0;32m~/.local/lib/python3.8/site-packages/pandas/core/indexes/base.py:516\u001b[0m, in \u001b[0;36mIndex.__new__\u001b[0;34m(cls, data, dtype, copy, name, tupleize_cols)\u001b[0m\n\u001b[1;32m    513\u001b[0m         data \u001b[38;5;241m=\u001b[39m com\u001b[38;5;241m.\u001b[39masarray_tuplesafe(data, dtype\u001b[38;5;241m=\u001b[39m_dtype_obj)\n\u001b[1;32m    515\u001b[0m \u001b[38;5;28;01melif\u001b[39;00m is_scalar(data):\n\u001b[0;32m--> 516\u001b[0m     \u001b[38;5;28;01mraise\u001b[39;00m \u001b[38;5;28;43mcls\u001b[39;49m\u001b[38;5;241;43m.\u001b[39;49m\u001b[43m_raise_scalar_data_error\u001b[49m\u001b[43m(\u001b[49m\u001b[43mdata\u001b[49m\u001b[43m)\u001b[49m\n\u001b[1;32m    517\u001b[0m \u001b[38;5;28;01melif\u001b[39;00m \u001b[38;5;28mhasattr\u001b[39m(data, \u001b[38;5;124m\"\u001b[39m\u001b[38;5;124m__array__\u001b[39m\u001b[38;5;124m\"\u001b[39m):\n\u001b[1;32m    518\u001b[0m     \u001b[38;5;28;01mreturn\u001b[39;00m Index(np\u001b[38;5;241m.\u001b[39masarray(data), dtype\u001b[38;5;241m=\u001b[39mdtype, copy\u001b[38;5;241m=\u001b[39mcopy, name\u001b[38;5;241m=\u001b[39mname)\n",
      "File \u001b[0;32m~/.local/lib/python3.8/site-packages/pandas/core/indexes/base.py:5066\u001b[0m, in \u001b[0;36mIndex._raise_scalar_data_error\u001b[0;34m(cls, data)\u001b[0m\n\u001b[1;32m   5061\u001b[0m \u001b[38;5;129m@final\u001b[39m\n\u001b[1;32m   5062\u001b[0m \u001b[38;5;129m@classmethod\u001b[39m\n\u001b[1;32m   5063\u001b[0m \u001b[38;5;28;01mdef\u001b[39;00m\u001b[38;5;250m \u001b[39m\u001b[38;5;21m_raise_scalar_data_error\u001b[39m(\u001b[38;5;28mcls\u001b[39m, data):\n\u001b[1;32m   5064\u001b[0m     \u001b[38;5;66;03m# We return the TypeError so that we can raise it from the constructor\u001b[39;00m\n\u001b[1;32m   5065\u001b[0m     \u001b[38;5;66;03m#  in order to keep mypy happy\u001b[39;00m\n\u001b[0;32m-> 5066\u001b[0m     \u001b[38;5;28;01mraise\u001b[39;00m \u001b[38;5;167;01mTypeError\u001b[39;00m(\n\u001b[1;32m   5067\u001b[0m         \u001b[38;5;124mf\u001b[39m\u001b[38;5;124m\"\u001b[39m\u001b[38;5;132;01m{\u001b[39;00m\u001b[38;5;28mcls\u001b[39m\u001b[38;5;241m.\u001b[39m\u001b[38;5;18m__name__\u001b[39m\u001b[38;5;132;01m}\u001b[39;00m\u001b[38;5;124m(...) must be called with a collection of some \u001b[39m\u001b[38;5;124m\"\u001b[39m\n\u001b[1;32m   5068\u001b[0m         \u001b[38;5;124mf\u001b[39m\u001b[38;5;124m\"\u001b[39m\u001b[38;5;124mkind, \u001b[39m\u001b[38;5;132;01m{\u001b[39;00m\u001b[38;5;28mrepr\u001b[39m(data)\u001b[38;5;132;01m}\u001b[39;00m\u001b[38;5;124m was passed\u001b[39m\u001b[38;5;124m\"\u001b[39m\n\u001b[1;32m   5069\u001b[0m     )\n",
      "\u001b[0;31mTypeError\u001b[0m: Index(...) must be called with a collection of some kind, 0 was passed"
     ]
    }
   ],
   "source": [
    "zones = pd.DataFrame(   data = [0,1],\n",
    "                        index = ['r'],\n",
    "                        columns = ['ID','msk'])\n",
    "\n",
    "zones.head()"
   ]
  },
  {
   "cell_type": "markdown",
   "id": "05e58bf1",
   "metadata": {},
   "source": []
  }
 ],
 "metadata": {
  "kernelspec": {
   "display_name": "Python 3",
   "language": "python",
   "name": "python3"
  },
  "language_info": {
   "codemirror_mode": {
    "name": "ipython",
    "version": 3
   },
   "file_extension": ".py",
   "mimetype": "text/x-python",
   "name": "python",
   "nbconvert_exporter": "python",
   "pygments_lexer": "ipython3",
   "version": "3.8.10"
  }
 },
 "nbformat": 4,
 "nbformat_minor": 5
}
