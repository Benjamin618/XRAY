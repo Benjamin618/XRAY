{
 "cells": [
  {
   "cell_type": "code",
   "execution_count": 4,
   "id": "15b6e445",
   "metadata": {},
   "outputs": [],
   "source": [
    "#  Chargement des packages Python\n",
    "import pandas as pd\n",
    "import numpy as np\n",
    "import cv2\n"
   ]
  },
  {
   "cell_type": "code",
   "execution_count": 5,
   "id": "61f1c095",
   "metadata": {},
   "outputs": [],
   "source": [
    "# PARAMETRES\n",
    "PrjLocation = '/home/ubuntu/XRAY/'              # Chemin Projet\n",
    "ArchiveFolder = 'COVID-19_Radiography_Dataset/' # Dossier Archive\n",
    "SampleAnalyzedPerClass = 500"
   ]
  },
  {
   "cell_type": "code",
   "execution_count": 6,
   "id": "2be66dc1",
   "metadata": {},
   "outputs": [],
   "source": [
    "# Récupération des metadata\n",
    "df_Normal = pd.read_excel(PrjLocation + ArchiveFolder + 'Normal.metadata.xlsx')\n",
    "df_COVID = pd.read_excel(PrjLocation + ArchiveFolder + 'COVID.metadata.xlsx')\n",
    "df_LungOpacity = pd.read_excel(PrjLocation + ArchiveFolder + 'Lung_Opacity.metadata.xlsx')\n",
    "df_ViralPneumonia = pd.read_excel(PrjLocation + ArchiveFolder + 'Viral Pneumonia.metadata.xlsx')\n"
   ]
  },
  {
   "cell_type": "code",
   "execution_count": 7,
   "id": "9a48af25",
   "metadata": {},
   "outputs": [],
   "source": [
    "# Ajout feature Class\n",
    "df_Normal['Class'] = 'Normal'\n",
    "df_COVID['Class'] = 'COVID'\n",
    "df_LungOpacity['Class'] = 'Lung Opacity'\n",
    "df_ViralPneumonia['Class'] = 'Viral Pneumonia'"
   ]
  },
  {
   "cell_type": "code",
   "execution_count": 8,
   "id": "1cdcb9bb",
   "metadata": {},
   "outputs": [],
   "source": [
    "# Ajout des images Normal\n",
    "df_Normal['FILE NAME'] = df_Normal['FILE NAME'].str.replace('NORMAL','Normal') # Trick pour obtenir la bonne casse des noms de fichiers\n",
    "NormalFolder = PrjLocation + ArchiveFolder + 'Normal/'\n",
    "IMG_NORMAL = []\n",
    "for file in df_Normal.loc[:SampleAnalyzedPerClass,'FILE NAME']:\n",
    "    img = cv2.imread(NormalFolder + 'images/' + file + '.png')\n",
    "    IMG_NORMAL.append(img)\n"
   ]
  },
  {
   "cell_type": "code",
   "execution_count": 18,
   "id": "f079cf41",
   "metadata": {},
   "outputs": [],
   "source": [
    "# Ajout des masques Normal\n",
    "df_Normal['FILE NAME'] = df_Normal['FILE NAME'].str.replace('NORMAL','Normal') # Trick pour obtenir la bonne casse des noms de fichiers\n",
    "NormalFolder = PrjLocation + ArchiveFolder + 'Normal/'\n",
    "MSK_NORMAL = []\n",
    "for file in df_Normal.loc[:SampleAnalyzedPerClass,'FILE NAME']:\n",
    "    msk = cv2.imread(NormalFolder + 'masks/' + file + '.png')\n",
    "    MSK_NORMAL.append(msk)"
   ]
  },
  {
   "cell_type": "code",
   "execution_count": 9,
   "id": "4409b4b0",
   "metadata": {},
   "outputs": [],
   "source": [
    "# Ajout des images COVID\n",
    "COVIDFolder = PrjLocation + ArchiveFolder + 'COVID/'\n",
    "IMG_COVID = []\n",
    "for file in df_COVID.loc[:SampleAnalyzedPerClass,'FILE NAME']:\n",
    "    img = cv2.imread(COVIDFolder + 'images/' + file + '.png')\n",
    "    IMG_COVID.append(img)"
   ]
  },
  {
   "cell_type": "code",
   "execution_count": 32,
   "id": "4151d34a",
   "metadata": {},
   "outputs": [],
   "source": [
    "# Ajout des masques COVID\n",
    "COVIDFolder = PrjLocation + ArchiveFolder + 'COVID/'\n",
    "MSK_COVID = []\n",
    "for file in df_COVID.loc[:SampleAnalyzedPerClass,'FILE NAME']:\n",
    "    msk = cv2.imread(COVIDFolder + 'masks/' + file + '.png')\n",
    "    MSK_COVID.append(msk)"
   ]
  },
  {
   "cell_type": "code",
   "execution_count": 10,
   "id": "5f648a17",
   "metadata": {},
   "outputs": [],
   "source": [
    "# Ajout des images LungOpacity\n",
    "LOFolder = PrjLocation + ArchiveFolder + 'Lung_Opacity/'\n",
    "IMG_LO = []\n",
    "for file in df_LungOpacity.loc[:SampleAnalyzedPerClass,'FILE NAME']:\n",
    "    img = cv2.imread(LOFolder + 'images/' + file + '.png')\n",
    "    IMG_LO.append(img)"
   ]
  },
  {
   "cell_type": "code",
   "execution_count": 33,
   "id": "b30cd3f6",
   "metadata": {},
   "outputs": [],
   "source": [
    "# Ajout des masques LungOpacity\n",
    "LOFolder = PrjLocation + ArchiveFolder + 'Lung_Opacity/'\n",
    "MSK_LO = []\n",
    "for file in df_LungOpacity.loc[:SampleAnalyzedPerClass,'FILE NAME']:\n",
    "    msk = cv2.imread(LOFolder + 'masks/' + file + '.png')\n",
    "    MSK_LO.append(msk)"
   ]
  },
  {
   "cell_type": "code",
   "execution_count": 11,
   "id": "e0b5e294",
   "metadata": {},
   "outputs": [],
   "source": [
    "# Ajout des images Viral Pneumonia\n",
    "VPFolder = PrjLocation + ArchiveFolder + 'Viral Pneumonia/'\n",
    "IMG_VP = []\n",
    "for file in df_ViralPneumonia.loc[:SampleAnalyzedPerClass,'FILE NAME']:\n",
    "    img = cv2.imread(VPFolder + 'images/' + file + '.png')\n",
    "    IMG_VP.append(img)"
   ]
  },
  {
   "cell_type": "code",
   "execution_count": 34,
   "id": "93095a06",
   "metadata": {},
   "outputs": [],
   "source": [
    "# Ajout des masques Viral Pneumonia\n",
    "VPFolder = PrjLocation + ArchiveFolder + 'Viral Pneumonia/'\n",
    "MSK_VP = []\n",
    "for file in df_ViralPneumonia.loc[:SampleAnalyzedPerClass,'FILE NAME']:\n",
    "    msk = cv2.imread(VPFolder + 'masks/' + file + '.png')\n",
    "    MSK_VP.append(msk)"
   ]
  },
  {
   "cell_type": "code",
   "execution_count": 35,
   "id": "efedbe7e",
   "metadata": {},
   "outputs": [],
   "source": [
    "# Troncature SampleAnalyzedPerClass\n",
    "df_Normal = df_Normal.iloc[:SampleAnalyzedPerClass,:]\n",
    "df_COVID = df_COVID.iloc[:SampleAnalyzedPerClass,:]\n",
    "df_LungOpacity = df_LungOpacity.iloc[:SampleAnalyzedPerClass,:]\n",
    "df_ViralPneumonia = df_ViralPneumonia.iloc[:SampleAnalyzedPerClass,:]\n"
   ]
  },
  {
   "cell_type": "code",
   "execution_count": 45,
   "id": "104680cc",
   "metadata": {},
   "outputs": [],
   "source": [
    "# Ajout feature Image\n",
    "df_Normal['Image'] = IMG_NORMAL[:SampleAnalyzedPerClass]\n",
    "df_COVID['Image'] = IMG_COVID[:SampleAnalyzedPerClass]\n",
    "df_LungOpacity['Image'] = IMG_LO[:SampleAnalyzedPerClass]\n",
    "df_ViralPneumonia['Image'] = IMG_VP[:SampleAnalyzedPerClass]\n",
    "\n",
    "# Ajout feature Mask\n",
    "df_Normal['Mask'] = MSK_NORMAL[:SampleAnalyzedPerClass]\n",
    "df_COVID['Mask'] = MSK_COVID[:SampleAnalyzedPerClass]\n",
    "df_LungOpacity['Mask'] = MSK_LO[:SampleAnalyzedPerClass]\n",
    "df_ViralPneumonia['Mask'] = MSK_VP[:SampleAnalyzedPerClass]"
   ]
  },
  {
   "cell_type": "code",
   "execution_count": 46,
   "id": "22690858",
   "metadata": {},
   "outputs": [],
   "source": [
    "df = pd.concat([df_Normal,df_COVID,df_LungOpacity,df_ViralPneumonia])"
   ]
  },
  {
   "cell_type": "code",
   "execution_count": 48,
   "id": "5aadbb68",
   "metadata": {},
   "outputs": [
    {
     "data": {
      "text/plain": [
       "14000"
      ]
     },
     "execution_count": 48,
     "metadata": {},
     "output_type": "execute_result"
    }
   ],
   "source": [
    "df.size\n"
   ]
  },
  {
   "cell_type": "code",
   "execution_count": null,
   "id": "49214ebd",
   "metadata": {},
   "outputs": [],
   "source": []
  }
 ],
 "metadata": {
  "kernelspec": {
   "display_name": "Python 3",
   "language": "python",
   "name": "python3"
  },
  "language_info": {
   "codemirror_mode": {
    "name": "ipython",
    "version": 3
   },
   "file_extension": ".py",
   "mimetype": "text/x-python",
   "name": "python",
   "nbconvert_exporter": "python",
   "pygments_lexer": "ipython3",
   "version": "3.8.10"
  }
 },
 "nbformat": 4,
 "nbformat_minor": 5
}
